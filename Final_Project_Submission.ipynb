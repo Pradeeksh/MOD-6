{
 "cells": [
  {
   "cell_type": "markdown",
   "id": "b57d646d",
   "metadata": {},
   "source": [
    "# Final Project Submission: Data Science Tools and Techniques"
   ]
  },
  {
   "cell_type": "markdown",
   "id": "11b34697",
   "metadata": {},
   "source": [
    "## Introduction\n",
    "This notebook provides an overview of essential tools, libraries, and concepts used in Data Science. It includes examples of arithmetic operations, code implementations, and structured objectives for learning."
   ]
  },
  {
   "cell_type": "markdown",
   "id": "e12fa6b2",
   "metadata": {},
   "source": [
    "## Data Science Languages\n",
    "- Python\n",
    "- R\n",
    "- SQL\n",
    "- Julia\n",
    "- Scala"
   ]
  },
  {
   "cell_type": "markdown",
   "id": "4b9d88c0",
   "metadata": {},
   "source": [
    "## Data Science Libraries\n",
    "- NumPy\n",
    "- Pandas\n",
    "- Matplotlib\n",
    "- Seaborn\n",
    "- TensorFlow\n",
    "- Scikit-learn"
   ]
  },
  {
   "cell_type": "markdown",
   "id": "9d56a8c2",
   "metadata": {},
   "source": [
    "## Data Science Tools\n",
    "\n",
    "| Tool             | Description                             |\n",
    "|------------------|-----------------------------------------|\n",
    "| Jupyter Notebook | Interactive computing environment       |\n",
    "| RStudio          | IDE for R programming                  |\n",
    "| Apache Spark     | Big data processing framework          |\n",
    "| Tableau          | Data visualization tool                |"
   ]
  },
  {
   "cell_type": "markdown",
   "id": "d85d9817",
   "metadata": {},
   "source": [
    "## Arithmetic Expression Examples\n",
    "Arithmetic expressions allow for mathematical computations such as addition, subtraction, multiplication, and division."
   ]
  },
  {
   "cell_type": "code",
   "execution_count": null,
   "id": "c5ca04c7",
   "metadata": {},
   "outputs": [],
   "source": [
    "# Multiplying and adding two numbers\n",
    "result = (5 * 4) + 10\n",
    "result"
   ]
  },
  {
   "cell_type": "code",
   "execution_count": null,
   "id": "50dc8909",
   "metadata": {},
   "outputs": [],
   "source": [
    "# Converting 150 minutes to hours\n",
    "minutes = 150\n",
    "hours = minutes / 60\n",
    "hours"
   ]
  },
  {
   "cell_type": "markdown",
   "id": "e96f37be",
   "metadata": {},
   "source": [
    "## Objectives\n",
    "- Understand the basics of data science tools.\n",
    "- Explore popular programming languages and libraries for data science.\n",
    "- Demonstrate simple arithmetic operations in Python."
   ]
  },
  {
   "cell_type": "markdown",
   "id": "28b12ae2",
   "metadata": {},
   "source": [
    "## Author\n",
    "John Doe"
   ]
  }
 ],
 "metadata": {},
 "nbformat": 4,
 "nbformat_minor": 5
}
